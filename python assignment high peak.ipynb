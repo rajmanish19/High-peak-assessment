{
 "cells": [
  {
   "cell_type": "code",
   "execution_count": 1,
   "id": "1c2dd2f9",
   "metadata": {},
   "outputs": [
    {
     "name": "stdout",
     "output_type": "stream",
     "text": [
      "reading input file 1\n",
      "generating output1 file\n",
      "reading input file 2\n",
      "generating output2 file\n",
      "reading input file 3\n",
      "generating output3 file\n"
     ]
    }
   ],
   "source": [
    "def GetKey(Dict,val):\n",
    "    for key, value in Dict.items():\n",
    "        if val == value:\n",
    "            return key+\": \"+str(val)+\"\\n\"\n",
    "\n",
    "def start():\n",
    "#read the input file input1,input2,input3.txt one by one and generate output files for corresponding input files\n",
    "    for x in range(1,4):\n",
    "        print(\"reading input file \"+str(x))\n",
    "        file = open(\"E:/high peak software/input files/input\"+str(x)+\".txt\", \"r\")\n",
    "        #read the file line by line\n",
    "        contents = file.readlines()    \n",
    "        #create dict to store goodie name and price of each goodie \n",
    "        Dict={}\n",
    "        no_of_emp=contents[0].replace(\" \", \"\")\n",
    "        #get no of employees input value from text file\n",
    "        no_of_emp=int(no_of_emp[-2])  \n",
    "\n",
    "        # to convert input goodies to dict\n",
    "        for i in range(4,14):                                   \n",
    "            each_line_of_goodie=contents[i]   \n",
    "            for j in range(len(each_line_of_goodie)):\n",
    "                if(each_line_of_goodie[j]==':'):\n",
    "                    # save goodie name in key\n",
    "                    key=str(each_line_of_goodie[0:j]) \n",
    "                    # save price of goodie in value\n",
    "                    value=int(each_line_of_goodie[j+1:])\n",
    "                    #append to Dictionary\n",
    "                    Dict[key]=int(value)                            \n",
    "\n",
    "        #save prices of all goodies in a list             \n",
    "        list_of_prices=list(Dict.values())  \n",
    "\n",
    "        n =len(list_of_prices) \n",
    "        result = +2147483647\n",
    "        ref_result= []\n",
    "        # Sorting the array. \n",
    "        list_of_prices=sorted(list_of_prices)\n",
    "        for i in range(n-no_of_emp+1):\n",
    "            result = int(min(result, list_of_prices[i+no_of_emp-1] - list_of_prices[i])) \n",
    "            if(result not in ref_result):\n",
    "                    ref_result.append(result)\n",
    "                    first_price_index=i  #save index of first goodie that will be distrubuted\n",
    "\n",
    "        f = open(\"E:/high peak software/out files/output\"+str(x)+\".txt\", \"w\")\n",
    "        print(\"generating output\"+str(x)+\" file\")\n",
    "        l1=\"Number of employees:\"+str(no_of_emp)+\"\\n\"\n",
    "        l2=\"\"+\"\\n\"\n",
    "        l3=\"Here the goodies that are selected for distribution are:\"+\"\\n\"\n",
    "        f.write(l1)\n",
    "        f.write(l2)\n",
    "        f.write(l3)\n",
    "        while(no_of_emp!=0):\n",
    "            l4=GetKey(Dict,list_of_prices[first_price_index])\n",
    "            f.write(l4)\n",
    "            first_price_index+=1\n",
    "            no_of_emp-=1\n",
    "        l5=\"\"+\"\\n\"\n",
    "        l6=\"And the difference between the chosen goodie with highest price and the lowest price is \"+str(result)+\"\\n\"\n",
    "\n",
    "        f.write(l5)\n",
    "        f.write(l6)\n",
    "        f.close()\n",
    "    \n",
    "start()"
   ]
  },
  {
   "cell_type": "code",
   "execution_count": null,
   "id": "b5d0e715",
   "metadata": {},
   "outputs": [],
   "source": []
  }
 ],
 "metadata": {
  "kernelspec": {
   "display_name": "Python 3",
   "language": "python",
   "name": "python3"
  },
  "language_info": {
   "codemirror_mode": {
    "name": "ipython",
    "version": 3
   },
   "file_extension": ".py",
   "mimetype": "text/x-python",
   "name": "python",
   "nbconvert_exporter": "python",
   "pygments_lexer": "ipython3",
   "version": "3.8.8"
  }
 },
 "nbformat": 4,
 "nbformat_minor": 5
}
